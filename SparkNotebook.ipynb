{
  "cells": [
    {
      "cell_type": "code",
      "execution_count": null,
      "metadata": {
        "id": "-xIguxSpOqip"
      },
      "outputs": [],
      "source": [
        "import warnings\n",
        "warnings.filterwarnings(\"ignore\")"
      ]
    },
    {
      "cell_type": "code",
      "execution_count": null,
      "metadata": {
        "id": "60SacqyyOqir"
      },
      "outputs": [],
      "source": [
        "import findspark\n",
        "findspark.init()\n",
        "from pyspark.sql import SparkSession\n",
        "from pyspark.sql.functions import *\n",
        "from pyspark.sql.types import StructType, StructField, StringType, IntegerType, FloatType, DateType\n",
        "from pyspark.sql import functions as F"
      ]
    },
    {
      "cell_type": "code",
      "execution_count": null,
      "metadata": {
        "id": "pKvA19sEOqis"
      },
      "outputs": [],
      "source": [
        "spark= SparkSession.builder\\\n",
        "    .config(\"spark.jars.packages\", \"org.apache.spark:spark-sql-kafka-0-10_2.12:3.3.1\")\\\n",
        "    .config(\"spark.jars\", \"sqljdbc42.jar\")\\\n",
        "    .getOrCreate()"
      ]
    },
    {
      "cell_type": "code",
      "execution_count": null,
      "metadata": {
        "colab": {
          "base_uri": "https://localhost:8080/",
          "height": 219
        },
        "id": "sCsKd8GzOqit",
        "outputId": "faf98764-5894-4621-a2d6-1066596e0f99"
      },
      "outputs": [],
      "source": [
        "spark"
      ]
    },
    {
      "cell_type": "code",
      "execution_count": null,
      "metadata": {
        "id": "_oHaSFeDOqiu"
      },
      "outputs": [],
      "source": [
        "df = spark \\\n",
        "    .readStream \\\n",
        "    .format(\"kafka\") \\\n",
        "    .option(\"kafka.bootstrap.servers\", \"localhost:9092\") \\\n",
        "    .option(\"subscribe\", \"moviesProject\") \\\n",
        "    .option(\"enable.auto.commit\", True) \\\n",
        "    .option(\"startingOffsets\", \"latest\") \\\n",
        "    .load()"
      ]
    },
    {
      "cell_type": "code",
      "execution_count": null,
      "metadata": {
        "colab": {
          "base_uri": "https://localhost:8080/"
        },
        "id": "WXEBXu9yOqiv",
        "outputId": "df567d51-6b6f-445a-9d03-392269a3ada9"
      },
      "outputs": [],
      "source": [
        "df.printSchema()"
      ]
    },
    {
      "cell_type": "code",
      "execution_count": null,
      "metadata": {
        "id": "znxCCeZ1Oqiw"
      },
      "outputs": [],
      "source": [
        "schema = StructType([\n",
        "    StructField(\"show_id\", StringType(), True),\n",
        "    StructField(\"type\", StringType(), True),\n",
        "    StructField(\"title\", StringType(), True),\n",
        "    StructField(\"director\", StringType(), True),\n",
        "    StructField(\"cast\", StringType(), True),\n",
        "    StructField(\"country\", StringType(), True),\n",
        "    StructField(\"date_added\", StringType(), True),\n",
        "    StructField(\"release_year\", StringType(), True),\n",
        "    StructField(\"rating\", StringType(), True),\n",
        "    StructField(\"duration\", StringType(), True),\n",
        "    StructField(\"listed_in\", StringType(), True),\n",
        "    StructField(\"description\", StringType(), True),\n",
        "    StructField(\"source\", StringType(), True),\n",
        "    StructField(\"total_views\", StringType(), True),\n",
        "    StructField(\"user_reviews\", StringType(), True),\n",
        "    StructField(\"user_rating\", StringType(), True)\n",
        "])"
      ]
    },
    {
      "cell_type": "code",
      "execution_count": null,
      "metadata": {
        "id": "u-iZ-yxlOqix"
      },
      "outputs": [],
      "source": [
        "json_df = df.select(from_json(col(\"value\").cast(\"string\"), schema).alias(\"data\")).select(\"data.*\")"
      ]
    },
    {
      "cell_type": "code",
      "execution_count": null,
      "metadata": {
        "colab": {
          "base_uri": "https://localhost:8080/"
        },
        "id": "7vY7ivaHOqiy",
        "outputId": "f94c5184-3b69-424f-b9a4-b76bfc9529a0"
      },
      "outputs": [],
      "source": [
        "json_df.printSchema()"
      ]
    },
    {
      "cell_type": "code",
      "execution_count": null,
      "metadata": {
        "id": "ekZsGg23Oqiz"
      },
      "outputs": [],
      "source": [
        "Updateemptystring = json_df.replace(\"\", None)\n"
      ]
    },
    {
      "cell_type": "code",
      "execution_count": null,
      "metadata": {
        "id": "X0tQE-whOqiz"
      },
      "outputs": [],
      "source": [
        "removewhitespace = Updateemptystring.select([ltrim(c).alias(c) for c in Updateemptystring.columns])"
      ]
    },
    {
      "cell_type": "code",
      "execution_count": null,
      "metadata": {
        "id": "6wtctWOoOqiz"
      },
      "outputs": [],
      "source": [
        "drop_date_added = removewhitespace.drop(\"date_added\")"
      ]
    },
    {
      "cell_type": "code",
      "execution_count": null,
      "metadata": {
        "id": "MGNOPbCHDFEM"
      },
      "outputs": [],
      "source": [
        "df_cleaned = drop_date_added.withColumn(\"listed_in\", regexp_replace(col(\"listed_in\"), \"[&-]\", \",\"))"
      ]
    },
    {
      "cell_type": "code",
      "execution_count": null,
      "metadata": {
        "id": "zBzgk1fC1xnj"
      },
      "outputs": [],
      "source": [
        "explode_listed_in= df_cleaned.withColumn(\"Category\", explode(split(\"listed_in\", \",\"))).drop(\"listed_in\")"
      ]
    },
    {
      "cell_type": "code",
      "execution_count": null,
      "metadata": {
        "id": "qDPnt2zoDQpi"
      },
      "outputs": [],
      "source": [
        "df_exploded = explode_listed_in.withColumn(\"Category\", trim(col(\"Category\")))"
      ]
    },
    {
      "cell_type": "code",
      "execution_count": null,
      "metadata": {
        "id": "efe5BXRhDWkL"
      },
      "outputs": [],
      "source": [
        "df_cleaned_years = df_exploded.filter(~col(\"Category\").rlike(\"^[0-9]{4}$\"))  # Remove years\n",
        "df_cleaned_duration = df_cleaned_years.filter(~col(\"Category\").rlike(\"^[0-9]+ min$\")&\n",
        "    ~col(\"Category\").rlike(\"Seasons\"))  # Remove durations"
      ]
    },
    {
      "cell_type": "code",
      "execution_count": null,
      "metadata": {
        "id": "z39rmFl5D6O5"
      },
      "outputs": [],
      "source": [
        "country_list = [\"Germany\", \"France\", \"United States\", \"India\",\"Nigeria\"]\n",
        "\n",
        "# Define a UDF to check if a value is a country\n",
        "def is_country(value):\n",
        "    if value in country_list:\n",
        "        return value\n",
        "    return None"
      ]
    },
    {
      "cell_type": "code",
      "execution_count": null,
      "metadata": {
        "id": "bTlt-pRNDWnj"
      },
      "outputs": [],
      "source": [
        "from pyspark.sql.functions import udf\n",
        "is_country_udf = udf(is_country, StringType())"
      ]
    },
    {
      "cell_type": "code",
      "execution_count": null,
      "metadata": {
        "id": "-01XdfkDEQzP"
      },
      "outputs": [],
      "source": [
        "df_with_countries = df_cleaned_duration.withColumn(\"country_detected\", is_country_udf(col(\"Category\")))"
      ]
    },
    {
      "cell_type": "code",
      "execution_count": null,
      "metadata": {
        "id": "iaKjTtCGERBc"
      },
      "outputs": [],
      "source": [
        "df_without_countries = df_with_countries.filter(col(\"country_detected\").isNull()).drop(\"country_detected\")"
      ]
    },
    {
      "cell_type": "code",
      "execution_count": null,
      "metadata": {
        "id": "w-s4b_uAEksG"
      },
      "outputs": [],
      "source": [
        "category_mapping = {\n",
        "    'TV Shows': 'Television',\n",
        "    'International': 'Television',\n",
        "    'Music Videos and Concerts': 'Music',\n",
        "    'Romance': 'Romance',\n",
        "    'Young Adult Audience': 'Young Adult Audience',\n",
        "    'Danny Tellez': 'Other',\n",
        "    'Yakima Canutt': 'Other',\n",
        "    'Entertainment': 'Entertainment',\n",
        "    'Guinn ``big Boy'' Williams': 'Other',\n",
        "    'Adventure': 'Adventure',\n",
        "    'Sports': 'Sports',\n",
        "    'Faith and Spirituality': 'Spiritual',\n",
        "    'Drama': 'Drama',\n",
        "    'Military and War': 'Military and War',\n",
        "    'Documentary': 'Documentary',\n",
        "    'Manuel González Sabin Cañita': 'Other',\n",
        "    'Fitness': 'Health',\n",
        "    'Fantasy': 'Fantasy',\n",
        "    'LGBTQ': 'LGBTQ',\n",
        "    'Tom Lingham': 'Other',\n",
        "    'and Culture': 'Culture',\n",
        "    'BJ Minor': 'Other',\n",
        "    'Mark Salidino': 'Other',\n",
        "    'Lew Luana': 'Other',\n",
        "    'Martin Kove': 'Other',\n",
        "    'Iron Eyes Cody': 'Other',\n",
        "    'Crystal Howell': 'Other',\n",
        "    'Ivan Miller': 'Other',\n",
        "    'Tex Palmer': 'Other',\n",
        "    'Anime': 'Animation',\n",
        "    'Suspense': 'Thriller',\n",
        "    'Charles Arnt': 'Other',\n",
        "    'Animation': 'Animation',\n",
        "    'Arts': 'Art',\n",
        "    'Kayden Bryce': 'Other',\n",
        "    'Special Interest': 'Special Interest',\n",
        "    'Mic Larry': 'Other',\n",
        "    'Kids': 'Children',\n",
        "    'Science Fiction': 'Sci-Fi',\n",
        "    'Tony Lee': 'Other',\n",
        "    'Arthouse': 'Art',\n",
        "    'Horror': 'Horror',\n",
        "    'George Cleveland': 'Other',\n",
        "    'Western': 'Western',\n",
        "    'Luxembourg': 'Other',\n",
        "    'Reese AKA LowKeyRG': 'Other',\n",
        "    'William Haade': 'Other',\n",
        "    'Comedy': 'Comedy',\n",
        "    'Action': 'Action',\n",
        "    'Historical': 'History',\n",
        "    'Talk Show and Variety': 'Talk Show',\n",
        "    'Glenn Strange': 'Other',\n",
        "    'Unscripted': 'Reality',\n",
        "    'October 16': 'Other',\n",
        "    'Romantic TV Shows': 'Romance',\n",
        "    'Korean TV Shows': 'Television',\n",
        "    'Patricia López Arnaiz': 'Other',\n",
        "    'Comedies': 'Comedy',\n",
        "    'Science': 'Science',\n",
        "    'Faith': 'Spiritual',\n",
        "    'Musicals': 'Musical',\n",
        "    'Anime Features': 'Animation',\n",
        "    'Marta Larralde': 'Other',\n",
        "    'Sports Movies': 'Sports',\n",
        "    'Reality TV': 'Reality',\n",
        "    'April 5': 'Other',\n",
        "    'TV Horror': 'Horror',\n",
        "    'Janeane Garofalo': 'Other',\n",
        "    'Crime TV Shows': 'Crime',\n",
        "    'Margaret Cho': 'Other',\n",
        "    'Cult TV': 'Cult',\n",
        "    'Independent Movies': 'Indie',\n",
        "    'Language TV Shows': 'Television',\n",
        "    'Talk Shows': 'Talk Show',\n",
        "    'Anime Series': 'Animation',\n",
        "    \"Kids' TV\": 'Children',\n",
        "    'Dramas': 'Drama',\n",
        "    '2 Seasons': 'Other',\n",
        "    'Eden Marryshow': 'Other',\n",
        "    'Romantic Movies': 'Romance',\n",
        "    'TV Mysteries': 'Mystery',\n",
        "    'Spanish': 'Other',\n",
        "    'British TV Shows': 'Television',\n",
        "    'Teen TV Shows': 'Television',\n",
        "    'Akin Lewis': 'Other',\n",
        "    'International Movies': 'Movies',\n",
        "    'TV Action': 'Action',\n",
        "    'Movies': 'Movies',\n",
        "    'TV Comedies': 'Comedy',\n",
        "    'Horror Movies': 'Horror',\n",
        "    'Thrillers': 'Thriller',\n",
        "    'TV Dramas': 'Drama',\n",
        "    'Heavy D': 'Other',\n",
        "    'Music': 'Music',\n",
        "    'Spirituality': 'Spiritual',\n",
        "    'Family Movies': 'Family',\n",
        "    'TV Sci': 'Sci-Fi',\n",
        "    'International TV Shows': 'Television',\n",
        "    'Up Comedy': 'Comedy',\n",
        "    'Docuseries': 'Documentary',\n",
        "    'Classic Movies': 'Classic',\n",
        "    'TV Thrillers': 'Thriller',\n",
        "    'Nature TV': 'Nature',\n",
        "    'January 16': 'Other',\n",
        "    'Netflix': 'Other',\n",
        "    'Children': 'Children',\n",
        "    'Stand': 'Comedy',\n",
        "    'LGBTQ Movies': 'LGBTQ',\n",
        "    'United Kingdom': 'Other',\n",
        "    'Cult Movies': 'Cult',\n",
        "    'Classic': 'Classic',\n",
        "    'Wellness': 'Health',\n",
        "    'Crime': 'Crime',\n",
        "    'Thriller': 'Thriller',\n",
        "    'Food': 'Food',\n",
        "    'Teen': 'Teen',\n",
        "    'Sketch Comedy': 'Comedy',\n",
        "    'Health': 'Health',\n",
        "    'Culture': 'Culture',\n",
        "    'Latino': 'Other',\n",
        "    'Family': 'Family',\n",
        "    'Reality': 'Reality',\n",
        "    'Sitcom': 'Comedy',\n",
        "    'History': 'History',\n",
        "    'Mystery': 'Mystery',\n",
        "    'Classics': 'Classic',\n",
        "    'Stand Up': 'Comedy',\n",
        "    'Technology': 'Technology',\n",
        "    'Lifestyle': 'Lifestyle',\n",
        "    'Game Shows': 'Game Show',\n",
        "    'Black Stories': 'Black Stories',\n",
        "    'Cartoons': 'Animation',\n",
        "    'Cooking': 'Food',\n",
        "    'LGBTQ+': 'LGBTQ',\n",
        "    'Adult Animation': 'Animation',\n",
        "    'Late Night': 'Talk Show',\n",
        "    'News': 'News',\n",
        "    'Kosovo': 'Other',\n",
        "    'Buddy': 'Other',\n",
        "    'Police/Cop': 'Crime',\n",
        "    'Survival': 'Survival',\n",
        "    'Travel': 'Travel',\n",
        "    'Biographical': 'Biography',\n",
        "    'Spy/Espionage': 'Thriller',\n",
        "    'Soap Opera / Melodrama': 'Drama',\n",
        "    'Disaster': 'Disaster',\n",
        "    'Series': 'Series',\n",
        "    'Musical': 'Musical',\n",
        "    'Concert Film': 'Music',\n",
        "    'Romantic Comedy': 'Romance Comedy',\n",
        "    'Variety': 'Variety',\n",
        "    'Nature': 'Nature',\n",
        "    'Coming of Age': 'Movies',\n",
        "    'Animals': 'Animals',\n",
        "    'Superhero': 'Action',\n",
        "    'Anthology': 'Movies',\n",
        "    'Medical': 'Medical',\n",
        "    'Dance': 'Screen Dance',\n",
        "    'Parody': 'Comedy',\n",
        "    'Talk Show': 'Talk Show',\n",
        "    'Game Show / Competition': 'Game Show',\n",
        "    'Cameron Fraser': 'Other'\n",
        "}"
      ]
    },
    {
      "cell_type": "code",
      "execution_count": null,
      "metadata": {
        "id": "u1n7NWgxEtMw"
      },
      "outputs": [],
      "source": [
        "standardized_categories_df = df_without_countries.withColumn(\n",
        "    \"Standardized_Category\",\n",
        "    F.when(\n",
        "        F.col(\"Category\").isin(list(category_mapping.keys())),\n",
        "        F.col(\"Category\")\n",
        "    ).otherwise(\"Other\")\n",
        ")"
      ]
    },
    {
      "cell_type": "code",
      "execution_count": null,
      "metadata": {
        "id": "t9Okk3XyEtPc"
      },
      "outputs": [],
      "source": [
        "def map_categories(category):\n",
        "    return category_mapping.get(category, 'Other')"
      ]
    },
    {
      "cell_type": "code",
      "execution_count": null,
      "metadata": {
        "id": "_jZK8F_RE7eh"
      },
      "outputs": [],
      "source": [
        "map_categories_udf = F.udf(map_categories)"
      ]
    },
    {
      "cell_type": "code",
      "execution_count": null,
      "metadata": {
        "id": "RK-ngLRXE7ul"
      },
      "outputs": [],
      "source": [
        "standardized_categories_df = standardized_categories_df.withColumn(\n",
        "    \"Standardized_Category\",\n",
        "    map_categories_udf(F.col(\"Standardized_Category\"))\n",
        ")"
      ]
    },
    {
      "cell_type": "code",
      "execution_count": null,
      "metadata": {
        "id": "FJnjvvRCFCqz"
      },
      "outputs": [],
      "source": [
        "drop_category_df = standardized_categories_df.drop(\"Category\")"
      ]
    },
    {
      "cell_type": "code",
      "execution_count": null,
      "metadata": {
        "colab": {
          "base_uri": "https://localhost:8080/"
        },
        "id": "_zR0TbrJFCwm",
        "outputId": "af8f2fed-6675-49a7-9164-ebc77f7a594e"
      },
      "outputs": [],
      "source": [
        "drop_category_df.printSchema()"
      ]
    },
    {
      "cell_type": "code",
      "execution_count": null,
      "metadata": {
        "id": "PHedq5DUfzFE"
      },
      "outputs": [],
      "source": [
        "df_casted = drop_category_df.withColumn(\"total_views\", col(\"total_views\").cast(IntegerType())) \\\n",
        "              .withColumn(\"user_reviews\", col(\"user_reviews\").cast(IntegerType())) \\\n",
        "              .withColumn(\"user_rating\", col(\"user_rating\").cast(FloatType()))"
      ]
    },
    {
      "cell_type": "code",
      "execution_count": null,
      "metadata": {
        "id": "7yPL5RPK1xwV"
      },
      "outputs": [],
      "source": [
        "director_nulls= df_casted.replace('Null', \"unknown\")"
      ]
    },
    {
      "cell_type": "code",
      "execution_count": null,
      "metadata": {
        "id": "XGKvq-B335K_"
      },
      "outputs": [],
      "source": [
        "cast_nulls= director_nulls.replace('Null', \"unknown\")"
      ]
    },
    {
      "cell_type": "code",
      "execution_count": null,
      "metadata": {
        "id": "V30VUWhm8ACy"
      },
      "outputs": [],
      "source": [
        "# Filter out rows where 'director' and 'cast' columns that are fully numeric (integers)\n",
        "numeric_pattern = \"^[0-9]+$\"\n",
        "\n",
        "filtered_df = cast_nulls.filter(\n",
        "    ~(\n",
        "        col(\"director\").rlike(numeric_pattern) &\n",
        "        col(\"cast\").rlike(numeric_pattern)\n",
        "    )\n",
        ")"
      ]
    },
    {
      "cell_type": "code",
      "execution_count": null,
      "metadata": {
        "colab": {
          "base_uri": "https://localhost:8080/"
        },
        "id": "1odL40lC8HxF",
        "outputId": "e6c49d5c-d6a2-4212-d5f2-0eceae0d674b"
      },
      "outputs": [],
      "source": [
        "filtered_df.printSchema()"
      ]
    },
    {
      "cell_type": "code",
      "execution_count": null,
      "metadata": {
        "id": "tVqzzivm35a6"
      },
      "outputs": [],
      "source": [
        "description_nulls= filtered_df.replace('Null', \"unknown\")"
      ]
    },
    {
      "cell_type": "code",
      "execution_count": null,
      "metadata": {
        "id": "sn1cuO-NOqi0"
      },
      "outputs": [],
      "source": [
        "casting_year = description_nulls.withColumn(\"release_year\", col(\"release_year\").cast(IntegerType()))"
      ]
    },
    {
      "cell_type": "code",
      "execution_count": null,
      "metadata": {
        "colab": {
          "base_uri": "https://localhost:8080/"
        },
        "id": "DwGRM00b_wwn",
        "outputId": "b120f12a-ae1e-45fb-e52a-cf0d357cfbc3"
      },
      "outputs": [],
      "source": [
        "casting_year.printSchema()"
      ]
    },
    {
      "cell_type": "code",
      "execution_count": null,
      "metadata": {
        "id": "WCCEHNoOAywL"
      },
      "outputs": [],
      "source": [
        "# Define thresholds for classification\n",
        "short_threshold = 90   # minutes\n",
        "medium_threshold = 150 # minutes"
      ]
    },
    {
      "cell_type": "code",
      "execution_count": null,
      "metadata": {
        "id": "VuCvNKdsAzIO"
      },
      "outputs": [],
      "source": [
        "# Classify movies based on duration directly\n",
        "bins_movies = casting_year.withColumn(\n",
        "    \"movie_duration_category\",\n",
        "    when(regexp_extract(col(\"duration\"), r\"(\\d+)\", 1).cast(\"integer\") <= short_threshold, \"short\")\n",
        "    .when(\n",
        "        (regexp_extract(col(\"duration\"), r\"(\\d+)\", 1).cast(\"integer\") > short_threshold) &\n",
        "        (regexp_extract(col(\"duration\"), r\"(\\d+)\", 1).cast(\"integer\") <= medium_threshold),\n",
        "        \"medium\"\n",
        "    )\n",
        "    .otherwise(\"long\")\n",
        ")"
      ]
    },
    {
      "cell_type": "code",
      "execution_count": null,
      "metadata": {
        "colab": {
          "base_uri": "https://localhost:8080/"
        },
        "id": "p6ejo6aUEXNI",
        "outputId": "456fea87-24dd-41b3-edaa-196c74eb65ea"
      },
      "outputs": [],
      "source": [
        "bins_movies.printSchema()"
      ]
    },
    {
      "cell_type": "code",
      "execution_count": null,
      "metadata": {
        "id": "E67c9zGfN3xE"
      },
      "outputs": [],
      "source": [
        "country_nulls= bins_movies.replace('Null', \"unknown\")"
      ]
    },
    {
      "cell_type": "code",
      "execution_count": null,
      "metadata": {
        "id": "4ItAkP26OVLB"
      },
      "outputs": [],
      "source": [
        "duration_nulls= country_nulls.replace('Null', \"unknown\")"
      ]
    },
    {
      "cell_type": "code",
      "execution_count": null,
      "metadata": {
        "colab": {
          "base_uri": "https://localhost:8080/"
        },
        "id": "bJDyYLe0OepF",
        "outputId": "6376910c-cac7-4872-a7b7-beff34e9d4f7"
      },
      "outputs": [],
      "source": [
        "duration_nulls.printSchema()"
      ]
    },
    {
      "cell_type": "code",
      "execution_count": null,
      "metadata": {},
      "outputs": [],
      "source": [
        "exploded_countries = duration_nulls.withColumn(\"country\", explode(split(\"country\", \",\")))\n",
        "dropnullcountries = exploded_countries.na.drop(subset=[\"country\"])"
      ]
    },
    {
      "cell_type": "code",
      "execution_count": null,
      "metadata": {
        "id": "23iHJGx-Oqi0"
      },
      "outputs": [],
      "source": [
        "checkpoint_dir = \"/home/mostafa/MoviesProjectCheckpoint\"\n",
        "\n",
        "def write_to_sql_server(batch_df, batch_id):\n",
        "    try:\n",
        "        batch_df.write \\\n",
        "            .format(\"jdbc\") \\\n",
        "            .option(\"url\", \"jdbc:sqlserver://192.168.1.11:1433;databaseName=MoviesProject;user=mostafa;password=mostafa7amdy;\") \\\n",
        "            .option(\"dbtable\", \"moviesProject\") \\\n",
        "            .option(\"driver\", \"com.microsoft.sqlserver.jdbc.SQLServerDriver\") \\\n",
        "            .option(\"checkpointLocation\", checkpoint_dir) \\\n",
        "            .mode(\"append\")\\\n",
        "            .save()\n",
        "    except Exception as e:\n",
        "        print(str(e))\n",
        "\n",
        "# Start the stream and write to SQL Server\n",
        "dropnullcountries.writeStream \\\n",
        "    .foreachBatch(write_to_sql_server) \\\n",
        "    .start() \n"
      ]
    },
    {
      "cell_type": "code",
      "execution_count": 44,
      "metadata": {
        "colab": {
          "base_uri": "https://localhost:8080/"
        },
        "id": "ExTdBQliFtP-",
        "outputId": "fb072181-7b6c-43e5-8dce-edfef0e312c5"
      },
      "outputs": [],
      "source": [
        "duration_nulls.isStreaming"
      ]
    },
    {
      "cell_type": "code",
      "execution_count": null,
      "metadata": {
        "id": "dhVkpa4gIgK1"
      },
      "outputs": [],
      "source": []
    }
  ],
  "metadata": {
    "colab": {
      "provenance": []
    },
    "kernelspec": {
      "display_name": "base",
      "language": "python",
      "name": "python3"
    },
    "language_info": {
      "codemirror_mode": {
        "name": "ipython",
        "version": 3
      },
      "file_extension": ".py",
      "mimetype": "text/x-python",
      "name": "python",
      "nbconvert_exporter": "python",
      "pygments_lexer": "ipython3",
      "version": "3.12.4"
    }
  },
  "nbformat": 4,
  "nbformat_minor": 0
}
